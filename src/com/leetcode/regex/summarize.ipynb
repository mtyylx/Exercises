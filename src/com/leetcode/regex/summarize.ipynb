{
 "cells": [
  {
   "cell_type": "code",
   "execution_count": 117,
   "metadata": {
    "collapsed": true
   },
   "outputs": [],
   "source": [
    "import os\n",
    "basedir = 'D:\\@Repo\\X.Notes\\BAK_2017.12.30'"
   ]
  },
  {
   "cell_type": "code",
   "execution_count": 118,
   "metadata": {
    "collapsed": false,
    "scrolled": false
   },
   "outputs": [
    {
     "name": "stdout",
     "output_type": "stream",
     "text": [
      "目录 <D:\\@Repo\\X.Notes\\BAK_2017.12.30> 的文本统计信息:\n",
      "\n",
      "1. 总文件个数 = 331\n",
      "2. 总文本行数 = 42445\n",
      "3. 总字符数 = 1025601\n",
      "4. 中文字符 = 292685\n",
      "5. 英文字符 = 732916\n"
     ]
    }
   ],
   "source": [
    "def get_folder_statistics(root, ext, log=False):\n",
    "    file_result = 0\n",
    "    char_result = [0, 0]\n",
    "    line_result = 0\n",
    "    for dirName, subdirList, fileList in os.walk(root):\n",
    "        if log:\n",
    "            print('Found directory: %s' % dirName)\n",
    "        for filename in fileList:\n",
    "            fullpath = os.path.join(dirName, filename)\n",
    "            char_count, line_count, file_count = get_file_statistics(fullpath, ext)\n",
    "            char_result[0] += char_count[0]\n",
    "            char_result[1] += char_count[1]\n",
    "            line_result += line_count\n",
    "            file_result += file_count\n",
    "            if log:\n",
    "                print('\\t%s' % fullpath)\n",
    "    print('目录 <%s> 的文本统计信息:\\n' % root)\n",
    "    print('1. 总文件个数 =', file_result)\n",
    "    print('2. 总文本行数 =', line_result)\n",
    "    print('3. 总字符数 =', char_result[0] + char_result[1])\n",
    "    print('4. 中文字符 =', char_result[0])\n",
    "    print('5. 英文字符 =', char_result[1])\n",
    "            \n",
    "get_folder_statistics(basedir, ['.md', '.txt'])"
   ]
  },
  {
   "cell_type": "code",
   "execution_count": 106,
   "metadata": {
    "collapsed": false
   },
   "outputs": [],
   "source": [
    "# coding=UTF-8\n",
    "def get_file_statistics(path, extension_whitelist, strict_mode=True):\n",
    "    extension = os.path.splitext(path)[1]\n",
    "    char_count = [0, 0]\n",
    "    line_count = 0\n",
    "    file_count = 0\n",
    "    if extension in extension_whitelist:\n",
    "        file_count = 1\n",
    "        with open(path, mode='rb') as f:\n",
    "            for line in f:\n",
    "                content = line.decode('utf-8')\n",
    "                if strict_mode:\n",
    "                    content = content.strip() # 严格模式：不计算每行的首尾空白字符\n",
    "                chinese_count, ascii_count = get_char_statistics(content)\n",
    "                char_count[0] += chinese_count\n",
    "                char_count[1] += ascii_count\n",
    "                line_count += 1\n",
    "    return char_count, line_count, file_count\n",
    "\n",
    "# get_file_statistics('D:\\\\a\\\\ML\\\\工具\\\\0.Anaconda.md', ['.md'])"
   ]
  },
  {
   "cell_type": "code",
   "execution_count": 107,
   "metadata": {
    "collapsed": false
   },
   "outputs": [],
   "source": [
    "def get_char_statistics(line):\n",
    "    chinese_count = 0\n",
    "    ascii_count = 0\n",
    "    for c in line:\n",
    "        if u'\\u4e00' <= c <= u'\\u9fff' or u'\\u3000' <= c <= u'\\u303f': #CJK字符范围以及CJK标点符号范围\n",
    "            chinese_count += 1\n",
    "        else:\n",
    "            ascii_count += 1\n",
    "    return chinese_count, ascii_count"
   ]
  }
 ],
 "metadata": {
  "kernelspec": {
   "display_name": "Python 3",
   "language": "python",
   "name": "python3"
  },
  "language_info": {
   "codemirror_mode": {
    "name": "ipython",
    "version": 3
   },
   "file_extension": ".py",
   "mimetype": "text/x-python",
   "name": "python",
   "nbconvert_exporter": "python",
   "pygments_lexer": "ipython3",
   "version": "3.5.4"
  }
 },
 "nbformat": 4,
 "nbformat_minor": 2
}
